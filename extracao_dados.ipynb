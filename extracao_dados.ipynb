{
 "cells": [
  {
   "cell_type": "code",
   "execution_count": 229,
   "metadata": {},
   "outputs": [],
   "source": [
    "import pandas as pd\n",
    "import numpy as np\n",
    "import re"
   ]
  },
  {
   "cell_type": "code",
   "execution_count": 230,
   "metadata": {},
   "outputs": [
    {
     "name": "stderr",
     "output_type": "stream",
     "text": [
      "c:\\Users\\lccam\\AppData\\Local\\Programs\\Python\\Python313\\Lib\\site-packages\\openpyxl\\worksheet\\_reader.py:329: UserWarning: Data Validation extension is not supported and will be removed\n",
      "  warn(msg)\n"
     ]
    }
   ],
   "source": [
    "df = pd.read_excel(r\"C:\\Users\\lccam\\OneDrive\\Área de Trabalho\\governanca\\dash_gov_fea_dev\\Planilha de Presença 2025.1.xlsx\", sheet_name=\"Presença - Reuniões Semanais\")"
   ]
  },
  {
   "cell_type": "code",
   "execution_count": 231,
   "metadata": {},
   "outputs": [],
   "source": [
    "df.columns = df.columns.str.lower()"
   ]
  },
  {
   "cell_type": "code",
   "execution_count": 232,
   "metadata": {},
   "outputs": [],
   "source": [
    "df = df.rename(columns={\"membros ativos 2025.1\":\"membros_ativos\",\"gênero\":\"genero\",\"área administrativa\":\"area_administrativa\",\"e-mail\":\"email\",\"pontuação final\":\"pontuacao_final\"})\n",
    "df.columns = df.columns.str.replace(\"/\", \"_\")"
   ]
  },
  {
   "cell_type": "code",
   "execution_count": 233,
   "metadata": {},
   "outputs": [],
   "source": [
    "df[\"pontuacao_final\"] = df[\"pontuacao_final\"].astype(int)"
   ]
  },
  {
   "cell_type": "code",
   "execution_count": 234,
   "metadata": {},
   "outputs": [],
   "source": [
    "df = df.loc[:,df.columns.notna()]"
   ]
  },
  {
   "cell_type": "code",
   "execution_count": 235,
   "metadata": {},
   "outputs": [],
   "source": [
    "for coluna in df.columns:\n",
    "    if coluna != \"pontuacao_final\":\n",
    "        df[coluna] = df[coluna].astype(str).str.replace(\"nan\", \"0\")"
   ]
  },
  {
   "cell_type": "code",
   "execution_count": 236,
   "metadata": {},
   "outputs": [],
   "source": [
    "df[\"score\"] = pd.to_numeric(df[\"score\"], errors=\"coerce\")"
   ]
  },
  {
   "cell_type": "code",
   "execution_count": 237,
   "metadata": {},
   "outputs": [],
   "source": [
    "df[\"score\"] = round(df[\"score\"],2)"
   ]
  },
  {
   "cell_type": "code",
   "execution_count": 238,
   "metadata": {},
   "outputs": [],
   "source": [
    "# Levar em conta apenas as áreas que realizam reuniões semanais de forma recorrente\n",
    "\n",
    "df[\"flag_considerar\"] = df[\"area_administrativa\"].apply(lambda x: 1 if x == \"RH\" or x == \"MKT\" else 0)"
   ]
  },
  {
   "cell_type": "code",
   "execution_count": null,
   "metadata": {},
   "outputs": [],
   "source": [
    "print()"
   ]
  },
  {
   "cell_type": "code",
   "execution_count": 176,
   "metadata": {},
   "outputs": [],
   "source": [
    "import pandas as pd\n",
    "import numpy as np\n",
    "import re"
   ]
  },
  {
   "cell_type": "code",
   "execution_count": 177,
   "metadata": {},
   "outputs": [],
   "source": [
    "df = pd.read_excel(r\"C:\\Users\\lccam\\OneDrive\\Área de Trabalho\\governanca\\dash_gov_fea_dev\\Planilha de Presença 2025.1.xlsx\", sheet_name=\"Presença - Outros Eventos\")"
   ]
  },
  {
   "cell_type": "code",
   "execution_count": null,
   "metadata": {},
   "outputs": [],
   "source": [
    "df.columns = df.columns.str.lower()"
   ]
  },
  {
   "cell_type": "code",
   "execution_count": null,
   "metadata": {},
   "outputs": [],
   "source": [
    "df = df.rename(columns={\"membros ativos 2025.1\":\"membros_ativos\",\"gênero\":\"genero\",\"área administrativa\":\"area_administrativa\",\"e-mail\":\"email\",\"pontuação final\":\"pontuacao_final\"})\n",
    "df.columns = df.columns.str.replace(\"/\", \"_\")"
   ]
  },
  {
   "cell_type": "code",
   "execution_count": null,
   "metadata": {},
   "outputs": [],
   "source": [
    "df[\"pontuacao_final\"] = df[\"pontuacao_final\"].astype(int)"
   ]
  },
  {
   "cell_type": "code",
   "execution_count": null,
   "metadata": {},
   "outputs": [],
   "source": [
    "df = df.loc[:,df.columns.notna()]"
   ]
  },
  {
   "cell_type": "code",
   "execution_count": null,
   "metadata": {},
   "outputs": [],
   "source": [
    "for coluna in df.columns:\n",
    "    if coluna != \"pontuacao_final\":\n",
    "        df[coluna] = df[coluna].astype(str).str.replace(\"nan\", \"0\")"
   ]
  },
  {
   "cell_type": "code",
   "execution_count": null,
   "metadata": {},
   "outputs": [],
   "source": [
    "df[\"score\"] = pd.to_numeric(df[\"score\"], errors=\"coerce\")\n",
    "df[\"score\"] = round(df[\"score\"],2)"
   ]
  },
  {
   "cell_type": "code",
   "execution_count": null,
   "metadata": {},
   "outputs": [],
   "source": [
    "# Levar em conta apenas as áreas que realizam reuniões semanais de forma recorrente\n",
    "\n",
    "df[\"flag_considerar\"] = df[\"area_administrativa\"].apply(lambda x: 1 if x == \"RH\" or x == \"MKT\" else 0)"
   ]
  },
  {
   "cell_type": "code",
   "execution_count": null,
   "metadata": {},
   "outputs": [],
   "source": []
  }
 ],
 "metadata": {
  "kernelspec": {
   "display_name": "Python 3",
   "language": "python",
   "name": "python3"
  },
  "language_info": {
   "codemirror_mode": {
    "name": "ipython",
    "version": 3
   },
   "file_extension": ".py",
   "mimetype": "text/x-python",
   "name": "python",
   "nbconvert_exporter": "python",
   "pygments_lexer": "ipython3",
   "version": "3.13.2"
  }
 },
 "nbformat": 4,
 "nbformat_minor": 2
}
